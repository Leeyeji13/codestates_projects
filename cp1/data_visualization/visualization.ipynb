{
 "cells": [
  {
   "cell_type": "code",
   "execution_count": 168,
   "metadata": {},
   "outputs": [],
   "source": [
    "import pandas as pd\n",
    "import numpy as np\n",
    "import matplotlib.pyplot as plt\n",
    "from matplotlib import rc #맥 한글깨짐\n",
    "rc('font', family='AppleGothic')#맥 한글깨짐\n"
   ]
  },
  {
   "cell_type": "markdown",
   "metadata": {},
   "source": [
    "# 2018년 2021년 여행비율 파이차트"
   ]
  },
  {
   "cell_type": "code",
   "execution_count": 169,
   "metadata": {},
   "outputs": [
    {
     "data": {
      "text/html": [
       "<div>\n",
       "<style scoped>\n",
       "    .dataframe tbody tr th:only-of-type {\n",
       "        vertical-align: middle;\n",
       "    }\n",
       "\n",
       "    .dataframe tbody tr th {\n",
       "        vertical-align: top;\n",
       "    }\n",
       "\n",
       "    .dataframe thead th {\n",
       "        text-align: right;\n",
       "    }\n",
       "</style>\n",
       "<table border=\"1\" class=\"dataframe\">\n",
       "  <thead>\n",
       "    <tr style=\"text-align: right;\">\n",
       "      <th></th>\n",
       "      <th>2018.1</th>\n",
       "      <th>2018.2</th>\n",
       "      <th>2018.4</th>\n",
       "      <th>2021.1</th>\n",
       "      <th>2021.2</th>\n",
       "      <th>2021.3</th>\n",
       "    </tr>\n",
       "  </thead>\n",
       "  <tbody>\n",
       "    <tr>\n",
       "      <th>0</th>\n",
       "      <td>국내_당일여행</td>\n",
       "      <td>국내_숙박여행</td>\n",
       "      <td>해외여행</td>\n",
       "      <td>국내_당일여행</td>\n",
       "      <td>국내_숙박여행</td>\n",
       "      <td>해외여행</td>\n",
       "    </tr>\n",
       "    <tr>\n",
       "      <th>1</th>\n",
       "      <td>횟수 (회)</td>\n",
       "      <td>횟수 (회)</td>\n",
       "      <td>횟수 (회)</td>\n",
       "      <td>횟수 (회)</td>\n",
       "      <td>횟수 (회)</td>\n",
       "      <td>소계</td>\n",
       "    </tr>\n",
       "    <tr>\n",
       "      <th>2</th>\n",
       "      <td>3.6</td>\n",
       "      <td>1.3</td>\n",
       "      <td>0.4</td>\n",
       "      <td>4.3</td>\n",
       "      <td>2.1</td>\n",
       "      <td>0.0</td>\n",
       "    </tr>\n",
       "    <tr>\n",
       "      <th>3</th>\n",
       "      <td>3.8</td>\n",
       "      <td>1.4</td>\n",
       "      <td>0.4</td>\n",
       "      <td>4.6</td>\n",
       "      <td>2.3</td>\n",
       "      <td>0.0</td>\n",
       "    </tr>\n",
       "    <tr>\n",
       "      <th>4</th>\n",
       "      <td>2.8</td>\n",
       "      <td>1.0</td>\n",
       "      <td>0.4</td>\n",
       "      <td>3.1</td>\n",
       "      <td>1.3</td>\n",
       "      <td>0.0</td>\n",
       "    </tr>\n",
       "    <tr>\n",
       "      <th>5</th>\n",
       "      <td>5.4</td>\n",
       "      <td>2.4</td>\n",
       "      <td>0.5</td>\n",
       "      <td>4.4</td>\n",
       "      <td>3.2</td>\n",
       "      <td>0.0</td>\n",
       "    </tr>\n",
       "    <tr>\n",
       "      <th>6</th>\n",
       "      <td>4.7</td>\n",
       "      <td>1.9</td>\n",
       "      <td>0.6</td>\n",
       "      <td>6.2</td>\n",
       "      <td>2.1</td>\n",
       "      <td>0.0</td>\n",
       "    </tr>\n",
       "    <tr>\n",
       "      <th>7</th>\n",
       "      <td>4.1</td>\n",
       "      <td>1.4</td>\n",
       "      <td>0.6</td>\n",
       "      <td>4.4</td>\n",
       "      <td>1.8</td>\n",
       "      <td>0.0</td>\n",
       "    </tr>\n",
       "    <tr>\n",
       "      <th>8</th>\n",
       "      <td>2.8</td>\n",
       "      <td>1.0</td>\n",
       "      <td>0.4</td>\n",
       "      <td>3.2</td>\n",
       "      <td>1.4</td>\n",
       "      <td>0.0</td>\n",
       "    </tr>\n",
       "    <tr>\n",
       "      <th>9</th>\n",
       "      <td>2.3</td>\n",
       "      <td>0.6</td>\n",
       "      <td>0.2</td>\n",
       "      <td>3.4</td>\n",
       "      <td>1.0</td>\n",
       "      <td>0.0</td>\n",
       "    </tr>\n",
       "    <tr>\n",
       "      <th>10</th>\n",
       "      <td>2.6</td>\n",
       "      <td>0.9</td>\n",
       "      <td>0.4</td>\n",
       "      <td>2.4</td>\n",
       "      <td>1.5</td>\n",
       "      <td>0.0</td>\n",
       "    </tr>\n",
       "    <tr>\n",
       "      <th>11</th>\n",
       "      <td>4.4</td>\n",
       "      <td>1.8</td>\n",
       "      <td>0.5</td>\n",
       "      <td>4.2</td>\n",
       "      <td>2.1</td>\n",
       "      <td>0.0</td>\n",
       "    </tr>\n",
       "    <tr>\n",
       "      <th>12</th>\n",
       "      <td>3.1</td>\n",
       "      <td>1.1</td>\n",
       "      <td>0.4</td>\n",
       "      <td>3.5</td>\n",
       "      <td>1.5</td>\n",
       "      <td>0.0</td>\n",
       "    </tr>\n",
       "    <tr>\n",
       "      <th>13</th>\n",
       "      <td>3.2</td>\n",
       "      <td>1.4</td>\n",
       "      <td>0.4</td>\n",
       "      <td>3.4</td>\n",
       "      <td>1.5</td>\n",
       "      <td>0.0</td>\n",
       "    </tr>\n",
       "    <tr>\n",
       "      <th>14</th>\n",
       "      <td>2.9</td>\n",
       "      <td>0.9</td>\n",
       "      <td>0.3</td>\n",
       "      <td>3.4</td>\n",
       "      <td>1.4</td>\n",
       "      <td>0.0</td>\n",
       "    </tr>\n",
       "    <tr>\n",
       "      <th>15</th>\n",
       "      <td>3.4</td>\n",
       "      <td>1.6</td>\n",
       "      <td>0.4</td>\n",
       "      <td>3.4</td>\n",
       "      <td>2.2</td>\n",
       "      <td>0.0</td>\n",
       "    </tr>\n",
       "    <tr>\n",
       "      <th>16</th>\n",
       "      <td>3.3</td>\n",
       "      <td>1.3</td>\n",
       "      <td>0.5</td>\n",
       "      <td>5.0</td>\n",
       "      <td>1.6</td>\n",
       "      <td>0.0</td>\n",
       "    </tr>\n",
       "    <tr>\n",
       "      <th>17</th>\n",
       "      <td>4.2</td>\n",
       "      <td>1.6</td>\n",
       "      <td>0.4</td>\n",
       "      <td>3.6</td>\n",
       "      <td>2.0</td>\n",
       "      <td>0.0</td>\n",
       "    </tr>\n",
       "    <tr>\n",
       "      <th>18</th>\n",
       "      <td>5.5</td>\n",
       "      <td>2.5</td>\n",
       "      <td>0.6</td>\n",
       "      <td>6.0</td>\n",
       "      <td>3.1</td>\n",
       "      <td>0.0</td>\n",
       "    </tr>\n",
       "  </tbody>\n",
       "</table>\n",
       "</div>"
      ],
      "text/plain": [
       "     2018.1   2018.2  2018.4   2021.1   2021.2 2021.3\n",
       "0   국내_당일여행  국내_숙박여행    해외여행  국내_당일여행  국내_숙박여행   해외여행\n",
       "1    횟수 (회)   횟수 (회)  횟수 (회)   횟수 (회)   횟수 (회)     소계\n",
       "2       3.6      1.3     0.4      4.3      2.1    0.0\n",
       "3       3.8      1.4     0.4      4.6      2.3    0.0\n",
       "4       2.8      1.0     0.4      3.1      1.3    0.0\n",
       "5       5.4      2.4     0.5      4.4      3.2    0.0\n",
       "6       4.7      1.9     0.6      6.2      2.1    0.0\n",
       "7       4.1      1.4     0.6      4.4      1.8    0.0\n",
       "8       2.8      1.0     0.4      3.2      1.4    0.0\n",
       "9       2.3      0.6     0.2      3.4      1.0    0.0\n",
       "10      2.6      0.9     0.4      2.4      1.5    0.0\n",
       "11      4.4      1.8     0.5      4.2      2.1    0.0\n",
       "12      3.1      1.1     0.4      3.5      1.5    0.0\n",
       "13      3.2      1.4     0.4      3.4      1.5    0.0\n",
       "14      2.9      0.9     0.3      3.4      1.4    0.0\n",
       "15      3.4      1.6     0.4      3.4      2.2    0.0\n",
       "16      3.3      1.3     0.5      5.0      1.6    0.0\n",
       "17      4.2      1.6     0.4      3.6      2.0    0.0\n",
       "18      5.5      2.5     0.6      6.0      3.1    0.0"
      ]
     },
     "execution_count": 169,
     "metadata": {},
     "output_type": "execute_result"
    }
   ],
   "source": [
    "travel_2018_2021=pd.read_csv(\"/Users/yeseulseo/cp1/project/eda/관광여행_현황_20220907223332.csv\",encoding='cp949')\n",
    "travel_2018_2021 = travel_2018_2021.drop(['특성별(1)','특성별(2)','2018','2018.3','2018.5','2021'], axis=1)\n",
    "travel_2018_2021"
   ]
  },
  {
   "cell_type": "code",
   "execution_count": 170,
   "metadata": {},
   "outputs": [],
   "source": [
    "travel_2018_2021.columns = ['2018_국내_당일여행', '2018_국내_숙박여행', '2018_해외여행', '2021_국내_당일여행','2021_국내_숙박여행', '2021_해외여행']\n",
    "travel_2018_2021 = travel_2018_2021.loc[2:2]\n",
    "travel_2018_2021.reset_index(drop=True, inplace=True)"
   ]
  },
  {
   "cell_type": "code",
   "execution_count": 171,
   "metadata": {},
   "outputs": [
    {
     "data": {
      "text/html": [
       "<div>\n",
       "<style scoped>\n",
       "    .dataframe tbody tr th:only-of-type {\n",
       "        vertical-align: middle;\n",
       "    }\n",
       "\n",
       "    .dataframe tbody tr th {\n",
       "        vertical-align: top;\n",
       "    }\n",
       "\n",
       "    .dataframe thead th {\n",
       "        text-align: right;\n",
       "    }\n",
       "</style>\n",
       "<table border=\"1\" class=\"dataframe\">\n",
       "  <thead>\n",
       "    <tr style=\"text-align: right;\">\n",
       "      <th></th>\n",
       "      <th>2018_국내_당일여행</th>\n",
       "      <th>2018_국내_숙박여행</th>\n",
       "      <th>2018_해외여행</th>\n",
       "      <th>2021_국내_당일여행</th>\n",
       "      <th>2021_국내_숙박여행</th>\n",
       "      <th>2021_해외여행</th>\n",
       "    </tr>\n",
       "  </thead>\n",
       "  <tbody>\n",
       "    <tr>\n",
       "      <th>0</th>\n",
       "      <td>3.6</td>\n",
       "      <td>1.3</td>\n",
       "      <td>0.4</td>\n",
       "      <td>4.3</td>\n",
       "      <td>2.1</td>\n",
       "      <td>0.0</td>\n",
       "    </tr>\n",
       "  </tbody>\n",
       "</table>\n",
       "</div>"
      ],
      "text/plain": [
       "  2018_국내_당일여행 2018_국내_숙박여행 2018_해외여행 2021_국내_당일여행 2021_국내_숙박여행 2021_해외여행\n",
       "0          3.6          1.3       0.4          4.3          2.1       0.0"
      ]
     },
     "execution_count": 171,
     "metadata": {},
     "output_type": "execute_result"
    }
   ],
   "source": [
    "travel_2018_2021"
   ]
  },
  {
   "cell_type": "code",
   "execution_count": 172,
   "metadata": {},
   "outputs": [
    {
     "name": "stdout",
     "output_type": "stream",
     "text": [
      "<class 'pandas.core.frame.DataFrame'>\n",
      "RangeIndex: 1 entries, 0 to 0\n",
      "Data columns (total 6 columns):\n",
      " #   Column        Non-Null Count  Dtype \n",
      "---  ------        --------------  ----- \n",
      " 0   2018_국내_당일여행  1 non-null      object\n",
      " 1   2018_국내_숙박여행  1 non-null      object\n",
      " 2   2018_해외여행     1 non-null      object\n",
      " 3   2021_국내_당일여행  1 non-null      object\n",
      " 4   2021_국내_숙박여행  1 non-null      object\n",
      " 5   2021_해외여행     1 non-null      object\n",
      "dtypes: object(6)\n",
      "memory usage: 176.0+ bytes\n"
     ]
    }
   ],
   "source": [
    "travel_2018_2021.info()"
   ]
  },
  {
   "cell_type": "code",
   "execution_count": 173,
   "metadata": {},
   "outputs": [
    {
     "name": "stdout",
     "output_type": "stream",
     "text": [
      "<class 'pandas.core.frame.DataFrame'>\n",
      "RangeIndex: 1 entries, 0 to 0\n",
      "Data columns (total 6 columns):\n",
      " #   Column        Non-Null Count  Dtype  \n",
      "---  ------        --------------  -----  \n",
      " 0   2018_국내_당일여행  1 non-null      float64\n",
      " 1   2018_국내_숙박여행  1 non-null      float64\n",
      " 2   2018_해외여행     1 non-null      float64\n",
      " 3   2021_국내_당일여행  1 non-null      float64\n",
      " 4   2021_국내_숙박여행  1 non-null      float64\n",
      " 5   2021_해외여행     1 non-null      float64\n",
      "dtypes: float64(6)\n",
      "memory usage: 176.0 bytes\n"
     ]
    }
   ],
   "source": [
    "travel_2018_2021 = travel_2018_2021.astype('float')\n",
    "travel_2018_2021.info()"
   ]
  },
  {
   "cell_type": "code",
   "execution_count": 174,
   "metadata": {},
   "outputs": [
    {
     "data": {
      "image/png": "[encoded data removed]",
      "text/plain": [
       "<Figure size 432x288 with 1 Axes>"
      ]
     },
     "metadata": {},
     "output_type": "display_data"
    }
   ],
   "source": [
    "# 2018년\n",
    "ratio1=[3.6, 1.3, 0.4]\n",
    "\n",
    "column_list = list(travel_2018_2021.columns)\n",
    "labels1 = column_list[0:3]\n",
    "\n",
    "plt.pie(ratio1, labels=labels1, autopct='%.1f%%')\n",
    "plt.show()"
   ]
  },
  {
   "cell_type": "code",
   "execution_count": 195,
   "metadata": {},
   "outputs": [
    {
     "data": {
      "image/png": "[encoded data removed]",
      "text/plain": [
       "<Figure size 432x288 with 1 Axes>"
      ]
     },
     "metadata": {},
     "output_type": "display_data"
    }
   ],
   "source": [
    "# 2021년\n",
    "ratio2=[4.3, 2.1, 0.0]\n",
    "\n",
    "column_list = list(travel_2018_2021.columns)\n",
    "labels2 = column_list[3:]\n",
    "\n",
    "\n",
    "plt.pie(ratio2, labels=labels2, autopct='%.1f%%')\n",
    "plt.show()"
   ]
  },
  {
   "cell_type": "markdown",
   "metadata": {},
   "source": [
    "## 코로나 전후 여행 횟수 막대그래프\n"
   ]
  },
  {
   "cell_type": "code",
   "execution_count": 176,
   "metadata": {},
   "outputs": [
    {
     "data": {
      "text/html": [
       "<div>\n",
       "<style scoped>\n",
       "    .dataframe tbody tr th:only-of-type {\n",
       "        vertical-align: middle;\n",
       "    }\n",
       "\n",
       "    .dataframe tbody tr th {\n",
       "        vertical-align: top;\n",
       "    }\n",
       "\n",
       "    .dataframe thead th {\n",
       "        text-align: right;\n",
       "    }\n",
       "</style>\n",
       "<table border=\"1\" class=\"dataframe\">\n",
       "  <thead>\n",
       "    <tr style=\"text-align: right;\">\n",
       "      <th></th>\n",
       "      <th>travel</th>\n",
       "      <th>2018</th>\n",
       "      <th>2021</th>\n",
       "    </tr>\n",
       "  </thead>\n",
       "  <tbody>\n",
       "    <tr>\n",
       "      <th>0</th>\n",
       "      <td>국내당일여행</td>\n",
       "      <td>3.6</td>\n",
       "      <td>4.3</td>\n",
       "    </tr>\n",
       "    <tr>\n",
       "      <th>1</th>\n",
       "      <td>국내숙박여행</td>\n",
       "      <td>1.3</td>\n",
       "      <td>2.1</td>\n",
       "    </tr>\n",
       "    <tr>\n",
       "      <th>2</th>\n",
       "      <td>해외여행</td>\n",
       "      <td>0.4</td>\n",
       "      <td>0.0</td>\n",
       "    </tr>\n",
       "  </tbody>\n",
       "</table>\n",
       "</div>"
      ],
      "text/plain": [
       "   travel  2018  2021\n",
       "0  국내당일여행   3.6   4.3\n",
       "1  국내숙박여행   1.3   2.1\n",
       "2    해외여행   0.4   0.0"
      ]
     },
     "execution_count": 176,
     "metadata": {},
     "output_type": "execute_result"
    }
   ],
   "source": [
    "# 막대그래프를 만들기위해 dataframe만들기\n",
    "bar_travel={\n",
    "    'travel' : ['국내당일여행','국내숙박여행','해외여행'],\n",
    "    '2018' : ratio1,\n",
    "    '2021' : ratio2\n",
    "\n",
    "}\n",
    "bar_travel = pd.DataFrame(bar_travel)\n",
    "bar_travel"
   ]
  },
  {
   "cell_type": "code",
   "execution_count": 177,
   "metadata": {},
   "outputs": [
    {
     "data": {
      "image/png": "[encoded data removed]",
      "text/plain": [
       "<Figure size 864x432 with 1 Axes>"
      ]
     },
     "metadata": {
      "needs_background": "light"
     },
     "output_type": "display_data"
    }
   ],
   "source": [
    "fig, ax = plt.subplots(figsize=(12,6))\n",
    "bar_width = 0.25\n",
    "\n",
    "index = np.arange(3)\n",
    "\n",
    "#2018년 그래프 \n",
    "b2018 = plt.bar(index, bar_travel['2018'], bar_width, alpha=0.4, color='red', label='2018년')\n",
    "\n",
    "#그래위에 수 나타내기\n",
    "for rect in b2018:\n",
    "    height = rect.get_height()\n",
    "    plt.text(rect.get_x()+rect.get_width()/2.0, height, '%.1f' % height, ha='center', va='bottom', size=12)\n",
    "\n",
    "#2021 그래프\n",
    "b2021 = plt.bar(index+bar_width, bar_travel['2021'], bar_width, alpha=0.4, color='blue', label='2021년')\n",
    "for rect in b2021:\n",
    "    height = rect.get_height()\n",
    "    plt.text(rect.get_x()+rect.get_width()/2.0, height, '%.1f' % height, ha='center', va='bottom', size=12)\n",
    "#x축 위치를 정 가운데로 조정하고,x축의 텍스트를 travel 정보와 매칭\n",
    "plt.xticks(np.arange(bar_width, 3+bar_width, 1), bar_travel['travel'])\n",
    "\n",
    "plt.legend()\n",
    "plt.show()"
   ]
  },
  {
   "cell_type": "markdown",
   "metadata": {},
   "source": [
    "# 상관관계 "
   ]
  },
  {
   "cell_type": "code",
   "execution_count": 180,
   "metadata": {},
   "outputs": [],
   "source": [
    "df=pd.read_csv(\"/Users/yeseulseo/cp1/project/data/final_final_data.csv\",index_col=0)"
   ]
  },
  {
   "cell_type": "code",
   "execution_count": 181,
   "metadata": {},
   "outputs": [
    {
     "name": "stdout",
     "output_type": "stream",
     "text": [
      "<class 'pandas.core.frame.DataFrame'>\n",
      "Int64Index: 19384 entries, 0 to 19383\n",
      "Data columns (total 13 columns):\n",
      " #   Column      Non-Null Count  Dtype  \n",
      "---  ------      --------------  -----  \n",
      " 0   id          19384 non-null  int64  \n",
      " 1   title       19384 non-null  object \n",
      " 2   addr        19384 non-null  object \n",
      " 3   addr_area   19384 non-null  object \n",
      " 4   addr_sigun  19384 non-null  object \n",
      " 5   cat_large   19384 non-null  object \n",
      " 6   cat_middle  19384 non-null  object \n",
      " 7   cat_sub     19384 non-null  object \n",
      " 8   cat1        19384 non-null  object \n",
      " 9   cat2        19384 non-null  object \n",
      " 10  grade       19384 non-null  int64  \n",
      " 11  review_num  19330 non-null  object \n",
      " 12  ratings     19271 non-null  float64\n",
      "dtypes: float64(1), int64(2), object(10)\n",
      "memory usage: 2.1+ MB\n"
     ]
    }
   ],
   "source": [
    "df.info()"
   ]
  },
  {
   "cell_type": "code",
   "execution_count": 182,
   "metadata": {},
   "outputs": [
    {
     "data": {
      "text/plain": [
       "id              0\n",
       "title           0\n",
       "addr            0\n",
       "addr_area       0\n",
       "addr_sigun      0\n",
       "cat_large       0\n",
       "cat_middle      0\n",
       "cat_sub         0\n",
       "cat1            0\n",
       "cat2            0\n",
       "grade           0\n",
       "review_num     54\n",
       "ratings       113\n",
       "dtype: int64"
      ]
     },
     "execution_count": 182,
     "metadata": {},
     "output_type": "execute_result"
    }
   ],
   "source": [
    "df.isna().sum()"
   ]
  },
  {
   "cell_type": "code",
   "execution_count": 183,
   "metadata": {},
   "outputs": [],
   "source": [
    "df = df.dropna(axis=0)"
   ]
  },
  {
   "cell_type": "code",
   "execution_count": 184,
   "metadata": {},
   "outputs": [
    {
     "data": {
      "text/plain": [
       "0.0351702982497446"
      ]
     },
     "execution_count": 184,
     "metadata": {},
     "output_type": "execute_result"
    }
   ],
   "source": [
    "# 공분산\n",
    "np.corrcoef(df['grade'], df['ratings'])[0,1]\n",
    "\n",
    "# 공분산이 0에 가까우므로 조회수 등급과 별점은 관련이 없다는 것을 알 수 있다.\n",
    "# 즉, 조회수가 높다고 별점이 높은 것은 아니라는 것을 알 수 있다. "
   ]
  },
  {
   "cell_type": "code",
   "execution_count": 185,
   "metadata": {},
   "outputs": [
    {
     "data": {
      "image/png": "[encoded data removed]",
      "text/plain": [
       "<Figure size 432x288 with 1 Axes>"
      ]
     },
     "metadata": {
      "needs_background": "light"
     },
     "output_type": "display_data"
    }
   ],
   "source": [
    "plt.scatter(df['grade'], df['ratings'])\n",
    "plt.show()"
   ]
  },
  {
   "cell_type": "code",
   "execution_count": 186,
   "metadata": {},
   "outputs": [],
   "source": [
    "df['review_num'] = df['review_num'].str.replace(pat=r'[^\\w]', repl=r'', regex=True)"
   ]
  },
  {
   "cell_type": "code",
   "execution_count": 187,
   "metadata": {},
   "outputs": [
    {
     "name": "stdout",
     "output_type": "stream",
     "text": [
      "<class 'pandas.core.frame.DataFrame'>\n",
      "Int64Index: 19271 entries, 0 to 19383\n",
      "Data columns (total 13 columns):\n",
      " #   Column      Non-Null Count  Dtype  \n",
      "---  ------      --------------  -----  \n",
      " 0   id          19271 non-null  int64  \n",
      " 1   title       19271 non-null  object \n",
      " 2   addr        19271 non-null  object \n",
      " 3   addr_area   19271 non-null  object \n",
      " 4   addr_sigun  19271 non-null  object \n",
      " 5   cat_large   19271 non-null  object \n",
      " 6   cat_middle  19271 non-null  object \n",
      " 7   cat_sub     19271 non-null  object \n",
      " 8   cat1        19271 non-null  object \n",
      " 9   cat2        19271 non-null  object \n",
      " 10  grade       19271 non-null  int64  \n",
      " 11  review_num  19271 non-null  float64\n",
      " 12  ratings     19271 non-null  float64\n",
      "dtypes: float64(2), int64(2), object(9)\n",
      "memory usage: 2.1+ MB\n"
     ]
    }
   ],
   "source": [
    "df['review_num']= df['review_num'].astype('float')\n",
    "df.info()"
   ]
  },
  {
   "cell_type": "code",
   "execution_count": 189,
   "metadata": {},
   "outputs": [
    {
     "data": {
      "image/png": "[encoded data removed]",
      "text/plain": [
       "<Figure size 432x288 with 1 Axes>"
      ]
     },
     "metadata": {
      "needs_background": "light"
     },
     "output_type": "display_data"
    }
   ],
   "source": [
    "plt.scatter( df['ratings'],df['review_num'])\n",
    "plt.show()"
   ]
  },
  {
   "cell_type": "markdown",
   "metadata": {},
   "source": [
    "# cat_sub 분포"
   ]
  },
  {
   "cell_type": "code",
   "execution_count": 190,
   "metadata": {},
   "outputs": [],
   "source": [
    "# grade, ratings에 따라 내림차순으로 정렬한 후 'cat_sub'을 분석\n",
    "df2 = df.sort_values([ 'ratings','grade'], ascending=False)\n",
    "cat_best=df2['cat_sub'][0:100].value_counts()[:10]\n",
    "# cat_best\n",
    "cat_best_ratio=list(cat_best.values)\n",
    "cat_best_labels=list(cat_best.index)"
   ]
  },
  {
   "cell_type": "code",
   "execution_count": 191,
   "metadata": {},
   "outputs": [
    {
     "data": {
      "image/png": "[encoded data removed]",
      "text/plain": [
       "<Figure size 432x288 with 1 Axes>"
      ]
     },
     "metadata": {},
     "output_type": "display_data"
    }
   ],
   "source": [
    "plt.pie(cat_best_ratio, labels=cat_best_labels, autopct='%.1f%%')\n",
    "plt.show()"
   ]
  },
  {
   "cell_type": "code",
   "execution_count": 192,
   "metadata": {},
   "outputs": [],
   "source": [
    "# grade, ratings에 따라 내림차순으로 정렬한 후 'cat_sub'을 분석\n",
    "df3 = df.sort_values([ 'ratings','grade'], ascending=False)\n",
    "addr_best=df3['addr_area'][0:100].value_counts()[:10]\n",
    "addr_best\n",
    "addr_best_ratio=list(addr_best.values)\n",
    "addr_best_labels=list(addr_best.index)"
   ]
  },
  {
   "cell_type": "code",
   "execution_count": 193,
   "metadata": {},
   "outputs": [
    {
     "data": {
      "image/png": "[encoded data removed]",
      "text/plain": [
       "<Figure size 432x288 with 1 Axes>"
      ]
     },
     "metadata": {},
     "output_type": "display_data"
    }
   ],
   "source": [
    "plt.pie(addr_best_ratio, labels=addr_best_labels, autopct='%.1f%%')\n",
    "plt.show()"
   ]
  }
 ],
 "metadata": {
  "kernelspec": {
   "display_name": "Python 3.8.13 ('deep')",
   "language": "python",
   "name": "python3"
  },
  "language_info": {
   "codemirror_mode": {
    "name": "ipython",
    "version": 3
   },
   "file_extension": ".py",
   "mimetype": "text/x-python",
   "name": "python",
   "nbconvert_exporter": "python",
   "pygments_lexer": "ipython3",
   "version": "3.8.13"
  },
  "orig_nbformat": 4,
  "vscode": {
   "interpreter": {
    "hash": "72c23d6464437fa2f246214ea94fe72bbf246d6aa45d3507cc09c1ae467b999d"
   }
  }
 },
 "nbformat": 4,
 "nbformat_minor": 2
}
