{
 "cells": [
  {
   "cell_type": "code",
   "execution_count": 1,
   "id": "41bac5a3",
   "metadata": {},
   "outputs": [],
   "source": [
    "import csv\n",
    "import pandas as pd\n",
    "import time\n",
    "from selenium import webdriver\n",
    "from selenium.webdriver.common.keys import Keys\n",
    "from selenium.webdriver.common.by import By\n",
    "from selenium.webdriver.support.ui import WebDriverWait\n",
    "from selenium.webdriver.support import expected_conditions as EC\n",
    "from time import sleep\n",
    "from bs4 import BeautifulSoup\n",
    "import re\n",
    "import json"
   ]
  },
  {
   "cell_type": "code",
   "execution_count": 2,
   "id": "d86b104c",
   "metadata": {},
   "outputs": [],
   "source": [
    "df = pd.read_csv(\"data4.csv\", encoding = \"utf-8\")\n",
    "df = df.drop_duplicates(['title_x'], keep='first')"
   ]
  },
  {
   "cell_type": "code",
   "execution_count": 11,
   "id": "6c3e118e",
   "metadata": {
    "scrolled": false
   },
   "outputs": [
    {
     "name": "stderr",
     "output_type": "stream",
     "text": [
      "C:\\Users\\bjw97\\AppData\\Local\\Temp/ipykernel_14656/4225577338.py:1: DeprecationWarning: executable_path has been deprecated, please pass in a Service object\n",
      "  driver = webdriver.Chrome('chromedriver.exe')\n"
     ]
    }
   ],
   "source": [
    "driver = webdriver.Chrome('chromedriver.exe')\n",
    "\n",
    "out = pd.DataFrame(columns=['title', 'review_num', 'ratings'])\n",
    "for i, keyword in enumerate(df['title_x'].tolist()):\n",
    "    ## 검색창에 관광지명 입력\n",
    "    driver.get(\"https://map.kakao.com/?q=\" + keyword) \n",
    "    time.sleep(1) # 1초 기다림\n",
    "    driver.implicitly_wait(3) # 3초안에 웹페이지를 로드하면 넘어가거나 3초 기다림\n",
    "    try:\n",
    "        review_num = driver.find_element(By.CSS_SELECTOR, '#info\\.search\\.place\\.list > li:nth-child(1) > div.rating.clickArea > a > em').text\n",
    "        ratings = driver.find_element(By.CSS_SELECTOR, '#info\\.search\\.place\\.list > li:nth-child(1) > div.rating.clickArea > span.score > em').text\n",
    "        out.loc[i] = [keyword, review_num, ratings]\n",
    "    except:\n",
    "        review_num = 0\n",
    "        ratings = 0.0\n",
    "        out.loc[i] = [keyword, review_num, ratings]"
   ]
  },
  {
   "cell_type": "code",
   "execution_count": 12,
   "id": "772854ca",
   "metadata": {},
   "outputs": [],
   "source": [
    "out.to_csv('ratings.csv')"
   ]
  },
  {
   "cell_type": "code",
   "execution_count": 21,
   "id": "843ed914",
   "metadata": {},
   "outputs": [
    {
     "data": {
      "text/html": [
       "<div>\n",
       "<style scoped>\n",
       "    .dataframe tbody tr th:only-of-type {\n",
       "        vertical-align: middle;\n",
       "    }\n",
       "\n",
       "    .dataframe tbody tr th {\n",
       "        vertical-align: top;\n",
       "    }\n",
       "\n",
       "    .dataframe thead th {\n",
       "        text-align: right;\n",
       "    }\n",
       "</style>\n",
       "<table border=\"1\" class=\"dataframe\">\n",
       "  <thead>\n",
       "    <tr style=\"text-align: right;\">\n",
       "      <th></th>\n",
       "      <th>title</th>\n",
       "      <th>review_num</th>\n",
       "      <th>ratings</th>\n",
       "    </tr>\n",
       "  </thead>\n",
       "  <tbody>\n",
       "    <tr>\n",
       "      <th>0</th>\n",
       "      <td>가거도(소흑산도)</td>\n",
       "      <td>0</td>\n",
       "      <td>0.0</td>\n",
       "    </tr>\n",
       "    <tr>\n",
       "      <th>1</th>\n",
       "      <td>기점·소악도</td>\n",
       "      <td>0</td>\n",
       "      <td>0.0</td>\n",
       "    </tr>\n",
       "    <tr>\n",
       "      <th>10</th>\n",
       "      <td>반월도·박지도</td>\n",
       "      <td>0</td>\n",
       "      <td>0.0</td>\n",
       "    </tr>\n",
       "    <tr>\n",
       "      <th>12</th>\n",
       "      <td>복호선착장</td>\n",
       "      <td>0</td>\n",
       "      <td>0.0</td>\n",
       "    </tr>\n",
       "    <tr>\n",
       "      <th>18</th>\n",
       "      <td>송도항(송도선착장)</td>\n",
       "      <td>0</td>\n",
       "      <td>0.0</td>\n",
       "    </tr>\n",
       "    <tr>\n",
       "      <th>...</th>\n",
       "      <td>...</td>\n",
       "      <td>...</td>\n",
       "      <td>...</td>\n",
       "    </tr>\n",
       "    <tr>\n",
       "      <th>19205</th>\n",
       "      <td>부산 차이나타운특구(상해문.상해거리)</td>\n",
       "      <td>0</td>\n",
       "      <td>0.0</td>\n",
       "    </tr>\n",
       "    <tr>\n",
       "      <th>19211</th>\n",
       "      <td>유치환 우체통 전망대</td>\n",
       "      <td>0</td>\n",
       "      <td>0.0</td>\n",
       "    </tr>\n",
       "    <tr>\n",
       "      <th>19216</th>\n",
       "      <td>친환경 스카이웨이 전망대(이바구길)</td>\n",
       "      <td>0</td>\n",
       "      <td>0.0</td>\n",
       "    </tr>\n",
       "    <tr>\n",
       "      <th>19217</th>\n",
       "      <td>팬스타부산주말원나잇크루즈</td>\n",
       "      <td>0</td>\n",
       "      <td>0.0</td>\n",
       "    </tr>\n",
       "    <tr>\n",
       "      <th>19230</th>\n",
       "      <td>유한회사스노우에이치[한국관광 품질인증/Korea Quality]</td>\n",
       "      <td>0</td>\n",
       "      <td>0.0</td>\n",
       "    </tr>\n",
       "  </tbody>\n",
       "</table>\n",
       "<p>2753 rows × 3 columns</p>\n",
       "</div>"
      ],
      "text/plain": [
       "                                     title review_num ratings\n",
       "0                                가거도(소흑산도)          0     0.0\n",
       "1                                   기점·소악도          0     0.0\n",
       "10                                 반월도·박지도          0     0.0\n",
       "12                                   복호선착장          0     0.0\n",
       "18                              송도항(송도선착장)          0     0.0\n",
       "...                                    ...        ...     ...\n",
       "19205                 부산 차이나타운특구(상해문.상해거리)          0     0.0\n",
       "19211                          유치환 우체통 전망대          0     0.0\n",
       "19216                  친환경 스카이웨이 전망대(이바구길)          0     0.0\n",
       "19217                        팬스타부산주말원나잇크루즈          0     0.0\n",
       "19230  유한회사스노우에이치[한국관광 품질인증/Korea Quality]          0     0.0\n",
       "\n",
       "[2753 rows x 3 columns]"
      ]
     },
     "execution_count": 21,
     "metadata": {},
     "output_type": "execute_result"
    }
   ],
   "source": [
    "out[out['review_num']==0]"
   ]
  },
  {
   "cell_type": "code",
   "execution_count": null,
   "id": "cacde32d",
   "metadata": {},
   "outputs": [],
   "source": []
  }
 ],
 "metadata": {
  "kernelspec": {
   "display_name": "Python 3 (ipykernel)",
   "language": "python",
   "name": "python3"
  },
  "language_info": {
   "codemirror_mode": {
    "name": "ipython",
    "version": 3
   },
   "file_extension": ".py",
   "mimetype": "text/x-python",
   "name": "python",
   "nbconvert_exporter": "python",
   "pygments_lexer": "ipython3",
   "version": "3.9.7"
  }
 },
 "nbformat": 4,
 "nbformat_minor": 5
}
